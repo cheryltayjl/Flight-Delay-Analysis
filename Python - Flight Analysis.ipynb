{
 "cells": [
  {
   "cell_type": "markdown",
   "id": "5e788e9c-fd70-43ff-a67d-c1ecce103895",
   "metadata": {},
   "source": [
    "The data consists of flight arrival and departure details for all commercial flights in the United States from 2003 to 2007. It contains a variety of fields, such as the date, time, airline, origin and destination airports, and information related to departure and arrival delays."
   ]
  },
  {
   "cell_type": "markdown",
   "id": "2aa035c3-d57d-4043-99a8-b014de006b13",
   "metadata": {},
   "source": [
    "**Import library**\n",
    "- The import of `os` is used for interacting with the operating system.\n",
    "- The import of `sqlite3` is used to interact with SQLite database.\n",
    "- The import of `pandas` is used for data analysis and manipulation\n",
    "- The import of `numpy` is used for numerical computing in Python.\n",
    "- The import of `matplotlib.pyplot` allows for plotting.\n",
    "- The import of `seaborn` is a Python data visualization library based on Matplotlib that provides a high-level interface for creating visually appealing and informative statistical graphics."
   ]
  },
  {
   "cell_type": "code",
   "execution_count": 1,
   "id": "a07995de-c2a0-4039-ba7b-6d4c0cde8946",
   "metadata": {},
   "outputs": [],
   "source": [
    "import os\n",
    "import sqlite3\n",
    "import pandas as pd\n",
    "import numpy as np\n",
    "import matplotlib.pyplot as plt\n",
    "import seaborn as sns"
   ]
  },
  {
   "cell_type": "code",
   "execution_count": null,
   "id": "1318bd9e-ba26-4cca-88c8-09f86782c108",
   "metadata": {},
   "outputs": [],
   "source": [
    "# Get current working directory\n",
    "os.getcwd()"
   ]
  },
  {
   "cell_type": "code",
   "execution_count": 2,
   "id": "3c6fdb3b-8847-467d-b9d7-210a1d88f177",
   "metadata": {},
   "outputs": [],
   "source": [
    "# Set working directory to the location containing the data\n",
    "os.chdir(r'C:\\Working directory')"
   ]
  },
  {
   "cell_type": "markdown",
   "id": "e53f035a-4cbc-426f-812e-c4519f66e317",
   "metadata": {},
   "source": [
    "If the database \"flights_python.db\" exists in your working directory, the following code chunk will remove it."
   ]
  },
  {
   "cell_type": "code",
   "execution_count": null,
   "id": "15c23df7-4d0b-4de9-93c0-31ee6ac4576f",
   "metadata": {},
   "outputs": [],
   "source": [
    "try:\n",
    "    os.remove('flights_python.db')\n",
    "except OSError: \n",
    "    pass"
   ]
  },
  {
   "cell_type": "markdown",
   "id": "d52e1b1b-4f5b-4a94-924f-a17257e15542",
   "metadata": {},
   "source": [
    "# Connect database"
   ]
  },
  {
   "cell_type": "code",
   "execution_count": 3,
   "id": "d9ef135d-df8d-47a9-90c9-bab104e074f6",
   "metadata": {},
   "outputs": [],
   "source": [
    "# Create a connection to the database named 'flights_python.db'\n",
    "conn = sqlite3.connect('flights_python.db')"
   ]
  },
  {
   "cell_type": "markdown",
   "id": "2516ea71-3b15-4d4b-889e-3b3dd82a8e99",
   "metadata": {},
   "source": [
    "# Create tables"
   ]
  },
  {
   "cell_type": "markdown",
   "id": "7018629a-1916-4636-9323-74c5b38a3fe3",
   "metadata": {},
   "source": [
    "First create the tables for the airports, carrier and plane-data datasets "
   ]
  },
  {
   "cell_type": "code",
   "execution_count": null,
   "id": "3bb4ac62-9dc4-44d1-a97d-da1feebb5390",
   "metadata": {},
   "outputs": [],
   "source": [
    "airports = pd.read_csv(\"airports.csv\")\n",
    "carriers = pd.read_csv(\"carriers.csv\")\n",
    "planes = pd.read_csv(\"plane-data.csv\")\n",
    "\n",
    "airports.to_sql('airports', con = conn, index = False)\n",
    "carriers.to_sql('carriers', con = conn, index = False)\n",
    "planes.to_sql('planes', con = conn, index = False)"
   ]
  },
  {
   "cell_type": "markdown",
   "id": "f6ba8233-139f-40fc-870c-c1e76176da6c",
   "metadata": {},
   "source": [
    "Then create the table for flights, which requires several csv files"
   ]
  },
  {
   "cell_type": "code",
   "execution_count": 4,
   "id": "983354a2-c5cf-4428-8efb-1f70f1aa5b80",
   "metadata": {},
   "outputs": [],
   "source": [
    "c = conn.cursor()"
   ]
  },
  {
   "cell_type": "code",
   "execution_count": null,
   "id": "b35d0721-4f6b-485c-bb1d-eccc71f517bd",
   "metadata": {},
   "outputs": [],
   "source": [
    "c.execute('''\n",
    "CREATE TABLE flights (\n",
    "  Year int,\n",
    "  Month int,\n",
    "  DayofMonth int,\n",
    "  DayOfWeek int,\n",
    "  DepTime  int,\n",
    "  CRSDepTime int,\n",
    "  ArrTime int,\n",
    "  CRSArrTime int,\n",
    "  UniqueCarrier varchar(5),\n",
    "  FlightNum int,\n",
    "  TailNum varchar(15),\n",
    "  ActualElapsedTime int,\n",
    "  CRSElapsedTime int,\n",
    "  AirTime int,\n",
    "  ArrDelay int,\n",
    "  DepDelay int,\n",
    "  Origin varchar(3),\n",
    "  Dest varchar(3),\n",
    "  Distance int,\n",
    "  TaxiIn int,\n",
    "  TaxiOut int,\n",
    "  Cancelled int,\n",
    "  CancellationCode varchar(1),\n",
    "  Diverted varchar(1),\n",
    "  CarrierDelay int,\n",
    "  WeatherDelay int,\n",
    "  NASDelay int,\n",
    "  SecurityDelay int,\n",
    "  LateAircraftDelay int\n",
    ")\n",
    "''')\n",
    "\n",
    "conn.commit()"
   ]
  },
  {
   "cell_type": "markdown",
   "id": "eb910ec5-10bf-44d0-955e-e6d0c10839df",
   "metadata": {},
   "source": [
    "Next, we will create a loop to load 2003 to 2007 data files directly from compressed bz2 format and combine them to table named \"flights\" in the database."
   ]
  },
  {
   "cell_type": "code",
   "execution_count": null,
   "id": "50426ff5-be95-4fae-b16e-edbe759925f7",
   "metadata": {},
   "outputs": [],
   "source": [
    "for year in range(2003, 2008):\n",
    "    filename = str(year)+\".csv.bz2\"\n",
    "    print('Processing:', filename)\n",
    "    flights = pd.read_csv(filename, encoding=\"latin-1\", low_memory=False, compression='bz2', dtype={\"TailNum\":\"string\"}).replace('',pd.NA) #avoids UnicodeDecodeError and mixed data type warning for column 22\n",
    "    flights.to_sql('flights', con = conn, if_exists = 'append', index = False)\n",
    "\n",
    "conn.commit()"
   ]
  },
  {
   "cell_type": "markdown",
   "id": "54112e2d-1689-4b9a-8590-18889f81d555",
   "metadata": {},
   "source": [
    "# Data Cleaning and Preparation"
   ]
  },
  {
   "cell_type": "markdown",
   "id": "4fd61667-3d7f-4449-834b-9a4c1cb6176b",
   "metadata": {},
   "source": [
    "First, we need to ensure that the data is clean and reliable. We will use `pd.read_sql_query` to retrieve the first five rows from the flights table in the database to have a glimpse of the data."
   ]
  },
  {
   "cell_type": "code",
   "execution_count": null,
   "id": "d67253bb-7f9e-469f-96bd-e2f830e36de5",
   "metadata": {},
   "outputs": [],
   "source": [
    "pd.read_sql_query(\"SELECT * FROM flights LIMIT 5\", conn)"
   ]
  },
  {
   "cell_type": "markdown",
   "id": "11c6acec-b883-4528-870e-b021dd8294e0",
   "metadata": {},
   "source": [
    "We noticed that there were some missing values in the ‘flights’ data set. Hence, we calculated the percentage of missing values in the data set to give an overview of the data."
   ]
  },
  {
   "cell_type": "markdown",
   "id": "02968234-59b9-41be-8c7f-957ae4596377",
   "metadata": {},
   "source": [
    "`c.execute` execute sql statements."
   ]
  },
  {
   "cell_type": "code",
   "execution_count": null,
   "id": "3465a248-67db-4ad0-b37b-35eead9ad857",
   "metadata": {},
   "outputs": [],
   "source": [
    "# Get column names from the 'flights' table\n",
    "c.execute(\"PRAGMA table_info(flights)\")\n",
    "columns = [col[1] for col in c.fetchall()]\n",
    "\n",
    "# Construct the SQL query to calculate missing value percentages\n",
    "missing_na_query = f\"\"\"\n",
    "    SELECT {\", \".join([\n",
    "        f\"(COUNT(*) - COUNT({col})) * 100.0 / COUNT(*) AS {col}_missing\" for col in columns\n",
    "    ])}\n",
    "    FROM flights;\n",
    "\"\"\"\n",
    "\n",
    "# Execute the query\n",
    "c.execute(missing_na_query)\n",
    "missing_percentages = c.fetchone()\n",
    "\n",
    "# Convert to Pandas DataFrame for better readability\n",
    "df_missing = pd.DataFrame({\n",
    "    \"Column\": columns,\n",
    "    \"Missing Percentage\": missing_percentages\n",
    "})\n",
    "\n",
    "print(df_missing)"
   ]
  },
  {
   "cell_type": "markdown",
   "id": "7072d2ad-2af2-4af6-9b98-7cfef4b53fc8",
   "metadata": {},
   "source": [
    "We found that “CancellationCode”, “CarrierDelay”, “WeatherDelay”, “NASDelay”, “SecurityDelay”, “LateAircraftDelay” columns have the highest percentage of missing value in the dataset. "
   ]
  },
  {
   "cell_type": "markdown",
   "id": "029f78c9-1cad-429c-b062-f6b7b56d179e",
   "metadata": {},
   "source": [
    "Hence, we created a new table \"flights_clean\" in the database to avoid modifying the original data. We only kept columns that will be relevant for our analysis. "
   ]
  },
  {
   "cell_type": "code",
   "execution_count": null,
   "id": "b706a53f-5457-4848-9f70-98cbb34454e0",
   "metadata": {},
   "outputs": [],
   "source": [
    "c.execute('''\n",
    "CREATE TABLE flights_clean AS \n",
    "SELECT Year, Month, DayofMonth, DayOfWeek, DepTime, CRSDepTime, ArrTime, CRSArrTime, UniqueCarrier, FlightNum, TailNum, ActualElapsedTime, CRSElapsedTime, AirTime, ArrDelay, DepDelay, Origin, Dest, Distance, Cancelled, Diverted \n",
    "From flights ''')\n",
    "\n",
    "conn.commit()"
   ]
  },
  {
   "cell_type": "code",
   "execution_count": 5,
   "id": "a2c5446b-c766-40ac-8dd9-652d0e6277f5",
   "metadata": {},
   "outputs": [
    {
     "data": {
      "text/plain": [
       "[('airports',),\n",
       " ('carriers',),\n",
       " ('planes',),\n",
       " ('flights',),\n",
       " ('flights_clean',),\n",
       " ('flights_planes',)]"
      ]
     },
     "execution_count": 5,
     "metadata": {},
     "output_type": "execute_result"
    }
   ],
   "source": [
    "#List all tables in database\n",
    "c.execute(''' SELECT name FROM sqlite_master WHERE type='table' ''').fetchall()"
   ]
  },
  {
   "cell_type": "code",
   "execution_count": null,
   "id": "814492a3-61fb-4b58-ab21-68030d36156e",
   "metadata": {},
   "outputs": [],
   "source": [
    "pd.read_sql_query(\"SELECT * FROM flights_clean LIMIT 5\", conn)"
   ]
  },
  {
   "cell_type": "markdown",
   "id": "2b8cbcbf-329d-4cb6-8ebf-618c7d055d2b",
   "metadata": {},
   "source": [
    "Next, we looked at the missing values in the other columns. "
   ]
  },
  {
   "cell_type": "code",
   "execution_count": null,
   "id": "45a143ed-7b0e-4ec7-9028-1e6350318e0e",
   "metadata": {},
   "outputs": [],
   "source": [
    "c.execute(\"PRAGMA table_info(flights_clean)\")\n",
    "columns2 = [col[1] for col in c.fetchall()] \n",
    "\n",
    "missing_na_query2 = f\"\"\"\n",
    "    SELECT {\", \".join([\n",
    "        f\"(COUNT(*) - COUNT({col})) * 100.0 / COUNT(*) AS {col}_missing\" for col in columns2\n",
    "    ])}\n",
    "    FROM flights_clean;\n",
    "\"\"\"\n",
    "\n",
    "c.execute(missing_na_query2)\n",
    "missing_percentages2 = c.fetchone()\n",
    "\n",
    "df_missing2 = pd.DataFrame({\n",
    "    \"Column\": columns2,\n",
    "    \"Missing Percentage\": missing_percentages2\n",
    "})\n",
    "\n",
    "print(df_missing2)"
   ]
  },
  {
   "cell_type": "markdown",
   "id": "bdf53e9e-8896-46ae-9f63-81be6b09b095",
   "metadata": {},
   "source": [
    "There were missing values in these columns: DepTime, ArrTime, TailNum, ActualElapsedTime, AirTime, ArrDelay, DepDelay. We then investigated whether the missing values in DepTime or ArrTime were due to flight cancellations or diversions."
   ]
  },
  {
   "cell_type": "code",
   "execution_count": null,
   "id": "f2362816-07cf-4dde-8ecf-c99f99e1f2dc",
   "metadata": {},
   "outputs": [],
   "source": [
    "pd.read_sql_query(''' SELECT\n",
    "    Cancelled,\n",
    "    Diverted,\n",
    "    COUNT(*) AS TotalFlights,\n",
    "    SUM(CASE WHEN DepTime IS NULL THEN 1 ELSE 0 END) AS DepTime_NA,\n",
    "    SUM(CASE WHEN ArrTime IS NULL THEN 1 ELSE 0 END) AS ArrTime_NA\n",
    "  FROM flights_clean\n",
    "  GROUP BY Cancelled, Diverted ''', conn)"
   ]
  },
  {
   "cell_type": "markdown",
   "id": "1bd49d32-7c1a-4b67-98b3-d4031874b4cf",
   "metadata": {},
   "source": [
    "We noticed that DepTime and ArrTime were related to the flight either being cancelled or diverted. We can see that when the flights are diverted, there is no ArrTime recorded. Similarly, when the flights are cancelled, there is no DepTime and ArrTime recorded. Therefore, the other columns would also have no values as the flights did not exist. We decided to fill those columns when DepTime or ArrTime is null, the other columns (ActualElapsedTime, CrsElapsedTime, AirTime, ArrDelay, DepDelay) would be 0."
   ]
  },
  {
   "cell_type": "code",
   "execution_count": null,
   "id": "f46cd112-8e11-4cd1-beb0-2b81eb8a102a",
   "metadata": {},
   "outputs": [],
   "source": [
    "c.execute(''' \n",
    "UPDATE flights_clean\n",
    "SET DepTime = COALESCE(DepTime, 0),\n",
    "    ArrTime = COALESCE(ArrTime, 0),\n",
    "    ActualElapsedTime = COALESCE(ActualElapsedTime, 0),\n",
    "    CRSElapsedTime = COALESCE(CRSElapsedTime, 0),\n",
    "    AirTime = COALESCE(AirTime, 0),\n",
    "    ArrDelay = COALESCE(ArrDelay, 0),\n",
    "    DepDelay = COALESCE(DepDelay, 0)\n",
    "WHERE DepTime IS NULL OR ArrTime IS NULL\n",
    "''')\n",
    "\n",
    "conn.commit()"
   ]
  },
  {
   "cell_type": "code",
   "execution_count": null,
   "id": "6bd19a4e-b38c-4797-9dcd-e18108dea7a3",
   "metadata": {},
   "outputs": [],
   "source": [
    "c.execute(\"PRAGMA table_info(flights_clean)\")\n",
    "columns3 = [col[1] for col in c.fetchall()]\n",
    "\n",
    "missing_na_query3 = f\"\"\"\n",
    "    SELECT {\", \".join([\n",
    "        f\"(COUNT(*) - COUNT({col})) * 100.0 / COUNT(*) AS {col}_missing\" for col in columns3\n",
    "    ])}\n",
    "    FROM flights_clean;\n",
    "\"\"\"\n",
    "\n",
    "c.execute(missing_na_query3)\n",
    "missing_percentages3 = c.fetchone()\n",
    "\n",
    "df_missing3 = pd.DataFrame({\n",
    "    \"Column\": columns3,\n",
    "    \"Missing Percentage\": missing_percentages3\n",
    "})\n",
    "\n",
    "print(df_missing3)"
   ]
  },
  {
   "cell_type": "markdown",
   "id": "98762e2d-9e87-49fc-946d-3bc3ca1e1297",
   "metadata": {},
   "source": [
    "We noticed that ActualElapsedTime and ArrDelay column still has missing values and went on to investigate."
   ]
  },
  {
   "cell_type": "code",
   "execution_count": null,
   "id": "7e089c45-56b5-4f32-840c-33d399906553",
   "metadata": {},
   "outputs": [],
   "source": [
    "pd.read_sql_query(\"SELECT * FROM flights_clean WHERE ArrDelay IS NULL\", conn)"
   ]
  },
  {
   "cell_type": "markdown",
   "id": "28b5d2a2-491c-4610-b302-616e60ddb243",
   "metadata": {},
   "source": [
    "We found that the missing value appeared in the same row. Since only one row had missing values for both columns, manual calculations were performed to determine the correct value. ActualElapsedTime is calculated using DepTime minus CRSDepTime. ArrDelay is calculated using ArrTime minus CRSArrTime."
   ]
  },
  {
   "cell_type": "code",
   "execution_count": null,
   "id": "ad12b35d-cfa2-4ac2-a052-69bf3d84de9f",
   "metadata": {},
   "outputs": [],
   "source": [
    "c.execute('''\n",
    "UPDATE flights_clean\n",
    "SET \n",
    "    ActualElapsedTime = CASE \n",
    "        WHEN ActualElapsedTime IS NULL THEN \n",
    "            CASE \n",
    "                WHEN (ArrTime % 100 + (ArrTime / 100) * 60) < (DepTime % 100 + (DepTime / 100) * 60) \n",
    "                THEN ((ArrTime % 100 + (ArrTime / 100) * 60) + 1440) - (DepTime % 100 + (DepTime / 100) * 60)\n",
    "                ELSE (ArrTime % 100 + (ArrTime / 100) * 60) - (DepTime % 100 + (DepTime / 100) * 60)\n",
    "            END\n",
    "        ELSE ActualElapsedTime \n",
    "    END,\n",
    "    ArrDelay = CASE \n",
    "        WHEN ArrDelay IS NULL THEN \n",
    "            CASE \n",
    "                WHEN (ArrTime % 100 + (ArrTime / 100) * 60) < (CRSArrTime % 100 + (CRSArrTime / 100) * 60) \n",
    "                THEN ((ArrTime % 100 + (ArrTime / 100) * 60) + 1440) - (CRSArrTime % 100 + (CRSArrTime / 100) * 60)\n",
    "                ELSE (ArrTime % 100 + (ArrTime / 100) * 60) - (CRSArrTime % 100 + (CRSArrTime / 100) * 60)\n",
    "            END\n",
    "        ELSE ArrDelay \n",
    "    END\n",
    "WHERE ActualElapsedTime IS NULL OR ArrDelay IS NULL ''')\n",
    "\n",
    "conn.commit()"
   ]
  },
  {
   "cell_type": "code",
   "execution_count": null,
   "id": "1159527b-ca82-4c5d-a709-e638f51d345e",
   "metadata": {},
   "outputs": [],
   "source": [
    "c.execute(\"PRAGMA table_info(flights_clean)\")\n",
    "columns4 = [col[1] for col in c.fetchall()] \n",
    "\n",
    "missing_na_query4 = f\"\"\"\n",
    "    SELECT {\", \".join([\n",
    "        f\"(COUNT(*) - COUNT({col})) * 100.0 / COUNT(*) AS {col}_missing\" for col in columns4\n",
    "    ])}\n",
    "    FROM flights_clean;\n",
    "\"\"\"\n",
    "\n",
    "c.execute(missing_na_query4)\n",
    "missing_percentages4 = c.fetchone()\n",
    "\n",
    "df_missing4 = pd.DataFrame({\n",
    "    \"Column\": columns4,\n",
    "    \"Missing Percentage\": missing_percentages4\n",
    "})\n",
    "\n",
    "print(df_missing4)"
   ]
  },
  {
   "cell_type": "markdown",
   "id": "bbd26efa-dcf7-4b01-ba02-2c2cf6052317",
   "metadata": {},
   "source": [
    "We noticed that there is still missing values in TailNum column."
   ]
  },
  {
   "cell_type": "code",
   "execution_count": null,
   "id": "dd152091-3d86-4193-893a-eff5b5f15826",
   "metadata": {},
   "outputs": [],
   "source": [
    "pd.read_sql_query(\"SELECT * FROM flights_clean WHERE TailNum IS NULL\", conn)"
   ]
  },
  {
   "cell_type": "markdown",
   "id": "8a0b5454-8900-4eef-a295-505f5debcc9b",
   "metadata": {},
   "source": [
    "We decided to fill those missing values in TailNum column with 0."
   ]
  },
  {
   "cell_type": "code",
   "execution_count": null,
   "id": "ec399663-b07d-4ef9-972d-b1a94b52e869",
   "metadata": {},
   "outputs": [],
   "source": [
    "c.execute(''' \n",
    "UPDATE flights_clean\n",
    "SET TailNum = '0'\n",
    "WHERE TailNum is NULL\n",
    "''')\n",
    "\n",
    "conn.commit()"
   ]
  },
  {
   "cell_type": "code",
   "execution_count": null,
   "id": "d472e819-9265-4eb6-ab9c-70ddd7ba18aa",
   "metadata": {},
   "outputs": [],
   "source": [
    "c.execute(\"PRAGMA table_info(flights_clean)\")\n",
    "columns5 = [col[1] for col in c.fetchall()]  \n",
    "\n",
    "missing_na_query5 = f\"\"\"\n",
    "    SELECT {\", \".join([\n",
    "        f\"(COUNT(*) - COUNT({col})) * 100.0 / COUNT(*) AS {col}_missing\" for col in columns5\n",
    "    ])}\n",
    "    FROM flights_clean;\n",
    "\"\"\"\n",
    "\n",
    "c.execute(missing_na_query5)\n",
    "missing_percentages5 = c.fetchone()\n",
    "\n",
    "df_missing5 = pd.DataFrame({\n",
    "    \"Column\": columns5,\n",
    "    \"Missing Percentage\": missing_percentages5\n",
    "})\n",
    "\n",
    "print(df_missing5)"
   ]
  },
  {
   "cell_type": "markdown",
   "id": "fe726f75-478e-42c6-9b68-d05aada4284e",
   "metadata": {},
   "source": [
    "Now, there are no missing values in the flights data set. We will proceed to prepare the data for analysis."
   ]
  },
  {
   "cell_type": "markdown",
   "id": "36d4fa71-ffa2-41bd-9afb-b4ad1e54837f",
   "metadata": {},
   "source": [
    "We will first change DepTime and ArrTime for those timing that are more than 2400hrs. In the DepTime and ArrTime columns, some values exceeded 2400. To ensure correct time conversion, a conditional statement was applied: if a time value exceeded 2400, 2400 was subtracted to obtain the correct time."
   ]
  },
  {
   "cell_type": "code",
   "execution_count": null,
   "id": "c401e32d-2a46-4f68-a48a-303500cdb28c",
   "metadata": {},
   "outputs": [],
   "source": [
    "c.execute(''' UPDATE flights_clean\n",
    "  SET\n",
    "    DepTime = CASE\n",
    "      WHEN DepTime >= 2400 THEN DepTime - 2400\n",
    "      ELSE DepTime\n",
    "    END,\n",
    "    ArrTime = CASE\n",
    "      WHEN ArrTime >= 2400 THEN ArrTime - 2400\n",
    "      ELSE ArrTime\n",
    "    END\n",
    "  WHERE DepTime >= 2400 OR ArrTime >= 2400''')\n",
    "\n",
    "conn.commit()"
   ]
  },
  {
   "cell_type": "markdown",
   "id": "d258cf15-90b4-46f6-b556-896c651e8553",
   "metadata": {},
   "source": [
    "We also converted the DayOfWeek column from numeric values to their corresponding day names."
   ]
  },
  {
   "cell_type": "code",
   "execution_count": null,
   "id": "98c27417-8d98-4ae8-bd95-c1f9ac7ce64f",
   "metadata": {},
   "outputs": [],
   "source": [
    "c.execute('''UPDATE flights_clean\n",
    "SET DayOfWeek = CASE \n",
    "WHEN DayOfWeek = 1 THEN 'Monday'\n",
    "WHEN DayOfWeek = 2 THEN 'Tuesday'\n",
    "WHEN DayOfWeek = 3 THEN 'Wednesday'\n",
    "WHEN DayOfWeek = 4 THEN 'Thursday'\n",
    "WHEN DayOfWeek = 5 THEN 'Friday'\n",
    "WHEN DayOfWeek = 6 THEN 'Saturday'\n",
    "WHEN DayOfWeek = 7 THEN 'Sunday'\n",
    "END''')\n",
    "\n",
    "conn.commit()"
   ]
  },
  {
   "cell_type": "markdown",
   "id": "fc105cca-42a6-4087-a6c4-0e47cd0d8291",
   "metadata": {},
   "source": [
    "## (a) What are the best times and days of the week to minimise delays each year?"
   ]
  },
  {
   "cell_type": "markdown",
   "id": "e3a9ee07-4a8a-4920-a979-9b13efd2f9e7",
   "metadata": {},
   "source": [
    "### (i) Best day of the week"
   ]
  },
  {
   "cell_type": "markdown",
   "id": "7716ef97-5131-4bcd-9bde-8dec7c2f3703",
   "metadata": {},
   "source": [
    "In this section, we will examine the percentage and average of flight delay by Day of Week."
   ]
  },
  {
   "cell_type": "markdown",
   "id": "e12ba7f1-3f4f-482a-85ff-e9c03505ea2e",
   "metadata": {},
   "source": [
    "#### Plot 1: Percentage of Flight Delay by Day of Week for Each Year"
   ]
  },
  {
   "cell_type": "markdown",
   "id": "49ff7d03-bb21-4ea2-9c12-5cc310267404",
   "metadata": {},
   "source": [
    "We will be using arrival delay as the primary indicator of delay. If the flight arrives more than 15 minutes, it is considered delayed."
   ]
  },
  {
   "cell_type": "code",
   "execution_count": null,
   "id": "ad8f07ac-60d3-4660-a71a-8be34a3df812",
   "metadata": {},
   "outputs": [],
   "source": [
    "percent_delay = pd.read_sql_query(''' SELECT Year, DayOfWeek, \n",
    "                        (SUM(CASE WHEN ArrDelay > 15 THEN 1 END) * 100.0 / COUNT(*)) AS DelayPercentage\n",
    "                        FROM flights_clean\n",
    "                        GROUP BY Year, DayOfWeek ''', conn)"
   ]
  },
  {
   "cell_type": "code",
   "execution_count": null,
   "id": "0995955b-596f-473b-aea0-8dce494af021",
   "metadata": {},
   "outputs": [],
   "source": [
    "day_order = [\"Monday\", \"Tuesday\", \"Wednesday\", \"Thursday\", \"Friday\", \"Saturday\", \"Sunday\"]\n",
    "percent_delay[\"DayOfWeek\"] = pd.Categorical(percent_delay[\"DayOfWeek\"], categories=day_order, ordered=True)"
   ]
  },
  {
   "cell_type": "markdown",
   "id": "a77d6348-50a1-461f-af4d-c6c889e08a2d",
   "metadata": {},
   "source": [
    "We will plot a bar plot using `sns.barplot()` function, where the x-axis represent the year and y-axis shows the percentage of flights delayed. The bars are grouped by the day of the week, allowing for easy comparison across different days. `plt.figure` sets the overall figure size to make the plot more readable. A `for` loop iterates over each bar in the plot and adds labels displaying the percentage of flight delays. The labels are placed near the top of each bar using the `annotate()` function. The plot is further customized with a title, axis labels and legend for clarity. `plt.tight_layout()` ensures that elements are well-spaced and do not overlap and `plt.show()` displays the plot."
   ]
  },
  {
   "cell_type": "code",
   "execution_count": null,
   "id": "26470895-30e3-46f0-b733-6bef87cde508",
   "metadata": {},
   "outputs": [],
   "source": [
    "plt.figure(figsize=(10, 6))\n",
    "sns.barplot(data=percent_delay, x=\"Year\", y=\"DelayPercentage\", hue=\"DayOfWeek\", dodge=True)\n",
    "\n",
    "for p in plt.gca().patches:\n",
    "    height = p.get_height()\n",
    "    if height > 0:  # Avoid placing labels on empty bars\n",
    "        plt.gca().annotate(f\"{height:.1f}\", \n",
    "                           (p.get_x() + p.get_width() / 2., height-1), \n",
    "                           ha='center', va='center', \n",
    "                           fontsize=10, fontweight='bold', \n",
    "                           rotation=90, color=\"black\")\n",
    "\n",
    "plt.title(\"Figure 3.2 (Python): Percentage of Flight Delay by Day of Week for Each Year\", fontsize=12, fontweight=\"bold\")\n",
    "plt.xlabel(\"Year\", fontsize=10)\n",
    "plt.ylabel(\"Percentage of Flight Delay (%)\", fontsize=10)\n",
    "plt.legend(title=\"Day of Week\", bbox_to_anchor=(1.05, 1), loc='upper left')\n",
    "plt.xticks(rotation=0) \n",
    "\n",
    "plt.tight_layout()\n",
    "plt.show()"
   ]
  },
  {
   "cell_type": "markdown",
   "id": "d9a79599-1bca-434e-b72d-de99f16bde58",
   "metadata": {},
   "source": [
    "**Observations from the plot above**\n",
    "\n",
    "There is an increasing trend in flight delays over the years, with notable fluctuations on different days of the week. We can see that delays tend to be more frequent on certain days such as Thursday and Friday across all years. Friday consistently recorded the highest percentage of delays from 2003 to 2007 with an increase from 17.5% to 26.7%. Meanwhile, Saturday consistently recorded the lowest percentage of delays from 2003 to 2007 with an increase from 12.6% to 19.5%. This pattern suggests that travellers should anticipate longer delays towards the end of the work week, especially on Thursday and Friday. "
   ]
  },
  {
   "cell_type": "markdown",
   "id": "ca99118e-d506-4225-8982-a8e8eb14a57e",
   "metadata": {},
   "source": [
    "#### Plot 2: Average Flight Delay by Day of Week"
   ]
  },
  {
   "cell_type": "code",
   "execution_count": null,
   "id": "3324b10f-6191-4078-be8b-74dc7d709dd4",
   "metadata": {},
   "outputs": [],
   "source": [
    "avg_delay = pd.read_sql_query(''' SELECT Year, DayOfWeek, AVG(ArrDelay) AS AvgDelay\n",
    "                                    FROM flights_clean\n",
    "                                    WHERE Cancelled = 0 AND Diverted = 0 AND ArrDelay > 15\n",
    "                                    GROUP BY Year, DayOfWeek ''', conn)"
   ]
  },
  {
   "cell_type": "code",
   "execution_count": null,
   "id": "bf178535-533b-4112-9b10-d5be73e9a5d4",
   "metadata": {},
   "outputs": [],
   "source": [
    "day_order = [\"Monday\", \"Tuesday\", \"Wednesday\", \"Thursday\", \"Friday\", \"Saturday\", \"Sunday\"]\n",
    "avg_delay[\"DayOfWeek\"] = pd.Categorical(avg_delay[\"DayOfWeek\"], categories=day_order, ordered=True)"
   ]
  },
  {
   "cell_type": "markdown",
   "id": "007b5819-1ac9-49fb-a86e-c06c2e31117a",
   "metadata": {},
   "source": [
    "We will plot a bar plot using `sns.barplot()` function, where the x-axis represent the year and y-axis shows the average flight delay. The bars are grouped by the day of the week. Similarly, a `for` loop iterates over each bar in the plot and adds labels displaying the average duration of flight delay. The labels are placed near the top of each bar using the `annotate()` function. The plot is further customized with a title, axis labels and legend."
   ]
  },
  {
   "cell_type": "code",
   "execution_count": null,
   "id": "05570eeb-840f-4709-b15e-b14e0d1b62df",
   "metadata": {},
   "outputs": [],
   "source": [
    "plt.figure(figsize=(10, 6))\n",
    "sns.barplot(data=avg_delay, x=\"Year\", y=\"AvgDelay\", hue=\"DayOfWeek\", dodge=True)\n",
    "\n",
    "for p in plt.gca().patches:\n",
    "    height = p.get_height()\n",
    "    if height > 0: \n",
    "        plt.gca().annotate(f\"{height:.1f}\", \n",
    "                           (p.get_x() + p.get_width() / 2., height-2), \n",
    "                           ha='center', va='center', \n",
    "                           fontsize=10, fontweight='bold', \n",
    "                           rotation=90, color=\"black\")\n",
    "\n",
    "plt.title(\"Figure 4.2 (Python): Average Flight Delay by Day of Week for Each Year\", fontsize=12, fontweight=\"bold\")\n",
    "plt.xlabel(\"Year\", fontsize=10)\n",
    "plt.ylabel(\"Average Flight Delay (minutes)\", fontsize=10)\n",
    "plt.legend(title=\"Day of Week\", bbox_to_anchor=(1.05, 1), loc='upper left')\n",
    "plt.xticks(rotation=0)  \n",
    "\n",
    "plt.tight_layout()\n",
    "plt.show()"
   ]
  },
  {
   "cell_type": "markdown",
   "id": "f125a416-ef96-4956-b051-46d745b81398",
   "metadata": {},
   "source": [
    "**Observations from the plot above**\n",
    "\n",
    "Saturday has the lowest average delay from 2003 to 2007 with an increase in duration from 47.7 minutes to 53.9 minutes. This suggests a decline in flights punctuality over the years with flight delays becoming more frequent and longer. Despite this increasing trend, Saturday remains the best day with the lowest delays for 5 consecutive years. Therefore, the best day to minimize flight delays is on Saturday."
   ]
  },
  {
   "cell_type": "markdown",
   "id": "5f53f86d-5bfe-4300-8943-4682d0598df3",
   "metadata": {},
   "source": [
    "### (ii) Best time"
   ]
  },
  {
   "cell_type": "markdown",
   "id": "146e19ac-3d61-46a4-b03a-d1b1331db87f",
   "metadata": {},
   "source": [
    "To determine the best time to minimize delays, we created the TimeInterval column by grouping arrival times into eight three-hour intervals. This allows us to analyze delay patterns across different times of the day."
   ]
  },
  {
   "cell_type": "code",
   "execution_count": null,
   "id": "827e09c9-ec72-4e55-b06e-99f618c5fd0a",
   "metadata": {},
   "outputs": [],
   "source": [
    "c.execute(\"ALTER TABLE flights_clean ADD COLUMN TimeInterval TEXT\")"
   ]
  },
  {
   "cell_type": "code",
   "execution_count": null,
   "id": "dab09f03-eb8d-45ca-80de-8d82221f5dbb",
   "metadata": {},
   "outputs": [],
   "source": [
    "c.execute(''' UPDATE flights_clean\n",
    "    SET TimeInterval = \n",
    "        CASE \n",
    "            WHEN ArrTime BETWEEN 0 AND 259 THEN '0000-0259'\n",
    "            WHEN ArrTime BETWEEN 300 AND 559 THEN '0300-0559'\n",
    "            WHEN ArrTime BETWEEN 600 AND 859 THEN '0600-0859'\n",
    "            WHEN ArrTime BETWEEN 900 AND 1159 THEN '0900-1159'\n",
    "            WHEN ArrTime BETWEEN 1200 AND 1459 THEN '1200-1459'\n",
    "            WHEN ArrTime BETWEEN 1500 AND 1759 THEN '1500-1759'\n",
    "            WHEN ArrTime BETWEEN 1800 AND 2059 THEN '1800-2059'\n",
    "            WHEN ArrTime BETWEEN 2100 AND 2359 THEN '2100-2359'\n",
    "        END ''')\n",
    "\n",
    "conn.commit()"
   ]
  },
  {
   "cell_type": "markdown",
   "id": "a6604cb5-2723-4117-a204-95d379e43c81",
   "metadata": {},
   "source": [
    "In this section, we will examine the percentage and average of flight delay by Time Interval."
   ]
  },
  {
   "cell_type": "markdown",
   "id": "2af29dc4-4aa5-402a-831f-22fdf8e8cd2f",
   "metadata": {},
   "source": [
    "#### Plot 3: Percentage of Flight Delay by Time Interval"
   ]
  },
  {
   "cell_type": "code",
   "execution_count": null,
   "id": "8b9f446f-8cec-41e9-985b-acfb1c90df7e",
   "metadata": {},
   "outputs": [],
   "source": [
    "percent_time_delay = pd.read_sql_query(''' SELECT Year, TimeInterval, \n",
    "                        (SUM(CASE WHEN ArrDelay > 15 THEN 1 END) * 100.0 / COUNT(*)) AS DelayPercentage\n",
    "                        FROM flights_clean\n",
    "                        WHERE Cancelled = 0 AND Diverted = 0\n",
    "                        GROUP BY Year, TimeInterval''', conn)"
   ]
  },
  {
   "cell_type": "markdown",
   "id": "5994c7e3-ebd4-479d-9886-4a2646c6f412",
   "metadata": {},
   "source": [
    "We will plot a line graph using `sns.lineplot()` function, where the x-axis represent the time interval and y-axis shows the percentage of flights delayed. The `hue=\"Year\"` argument assigns different colors to each year, making it easy to compare trends across years. The plot is customized with a title, axis labels and legend. To enhance readability, `plt.grid()` adds a dashed grid, making it easier to compare values across different time intervals."
   ]
  },
  {
   "cell_type": "code",
   "execution_count": null,
   "id": "76e42a01-fa61-4972-87d7-657d9f0a1e6d",
   "metadata": {},
   "outputs": [],
   "source": [
    "plt.figure(figsize=(10, 6))\n",
    "sns.lineplot(data=percent_time_delay, x=\"TimeInterval\", y=\"DelayPercentage\", hue=\"Year\", \n",
    "             marker=\"o\", palette=\"Dark2\", linewidth=1.5)\n",
    "\n",
    "plt.title(\"Figure 5.2 (Python) : Percentage of Flight Delay by Time Interval for Each Year\", fontsize=14, fontweight=\"bold\")\n",
    "plt.xlabel(\"Time Interval\", fontsize=12)\n",
    "plt.ylabel(\"Percentage of Flight Delay (%)\", fontsize=12)\n",
    "plt.legend(title=\"Year\")\n",
    "\n",
    "plt.grid(True, linestyle=\"--\", alpha=0.5)\n",
    "\n",
    "plt.tight_layout()\n",
    "plt.show()"
   ]
  },
  {
   "cell_type": "markdown",
   "id": "ca57d3ff-373f-4233-ac79-3ebd8800c6f8",
   "metadata": {},
   "source": [
    "##### Lowest Percentage of Delayed Flights by Time Interval for Each Year"
   ]
  },
  {
   "cell_type": "code",
   "execution_count": null,
   "id": "63573f66-62c8-4662-8cfc-4a81d0ff5fac",
   "metadata": {},
   "outputs": [],
   "source": [
    "lowest_percent_delay = pd.read_sql_query('''\n",
    "    WITH ranked_percent_time_delays AS (\n",
    "        SELECT Year, TimeInterval,\n",
    "        (SUM(CASE WHEN ArrDelay > 15 THEN 1 END) * 100.0 / COUNT(*)) AS DelayPercentage,\n",
    "        ROW_NUMBER() OVER (PARTITION BY Year ORDER BY (SUM(CASE WHEN ArrDelay > 15 THEN 1 END) * 100.0 / COUNT(*))) AS rank\n",
    "        FROM flights_clean\n",
    "        WHERE Cancelled = 0 AND Diverted = 0\n",
    "        GROUP BY Year, TimeInterval\n",
    "    )\n",
    "    SELECT Year, TimeInterval, DelayPercentage\n",
    "    FROM ranked_percent_time_delays\n",
    "    WHERE rank = 1\n",
    "''', conn)\n",
    "\n",
    "pd.DataFrame(lowest_percent_delay)"
   ]
  },
  {
   "cell_type": "markdown",
   "id": "e958815d-349d-49fb-8441-181ac49f5e87",
   "metadata": {},
   "source": [
    "**Observations from the plot and table above**\n",
    "\n",
    "Early morning hours from 0600 to 0859 consistently show the lowest percentage of flight delay from 2003 to 2007 with an increase from 5.2% to 8.2%.  "
   ]
  },
  {
   "cell_type": "markdown",
   "id": "a288e7ea-a1c4-4864-8efc-bcc0240ffb58",
   "metadata": {},
   "source": [
    "#### Plot 4: Average Flight Delay by Time Interval"
   ]
  },
  {
   "cell_type": "code",
   "execution_count": null,
   "id": "1a755aab-c683-40e8-89fd-321e9008a753",
   "metadata": {},
   "outputs": [],
   "source": [
    "avg_time_delay = pd.read_sql_query(''' SELECT Year, TimeInterval, AVG(ArrDelay) as AvgDelay\n",
    "                        FROM flights_clean\n",
    "                        WHERE ArrDelay > 15 AND Cancelled = 0 AND Diverted = 0\n",
    "                        GROUP BY Year, TimeInterval ''', conn)"
   ]
  },
  {
   "cell_type": "code",
   "execution_count": null,
   "id": "855d85a0-f694-4931-ada5-ef07ab257e4a",
   "metadata": {
    "scrolled": true
   },
   "outputs": [],
   "source": [
    "plt.figure(figsize=(10, 6))\n",
    "sns.lineplot(data=avg_time_delay, x=\"TimeInterval\", y=\"AvgDelay\", hue=\"Year\", \n",
    "             marker=\"o\", palette=\"Dark2\", linewidth=1.5)\n",
    "\n",
    "plt.title(\"Figure 6.2 (Python): Average Flight Delay by Time Interval for Each Year\", fontsize=14, fontweight=\"bold\")\n",
    "plt.xlabel(\"Time Interval\", fontsize=12)\n",
    "plt.ylabel(\"Average Flight Delay (minutes)\", fontsize=12)\n",
    "plt.legend(title=\"Year\")\n",
    "\n",
    "plt.grid(True, linestyle=\"--\", alpha=0.5)\n",
    "\n",
    "plt.tight_layout()\n",
    "plt.show()"
   ]
  },
  {
   "cell_type": "markdown",
   "id": "98333fad-3fd8-4332-aef9-a21d371237da",
   "metadata": {},
   "source": [
    "##### Lowest Average Flight Delay by Time Interval for Each Year"
   ]
  },
  {
   "cell_type": "code",
   "execution_count": null,
   "id": "070fff2d-7ff3-44d9-966e-b42c4154bf1e",
   "metadata": {},
   "outputs": [],
   "source": [
    "lowest_avg_delay = pd.read_sql_query('''\n",
    "    WITH ranked_time_delays AS (\n",
    "        SELECT Year, TimeInterval, AVG(ArrDelay) AS AvgDelay,\n",
    "               ROW_NUMBER() OVER (PARTITION BY Year ORDER BY AVG(ArrDelay)) AS rank\n",
    "        FROM flights_clean\n",
    "        WHERE Cancelled = 0 AND Diverted = 0 AND ArrDelay > 15\n",
    "        GROUP BY Year, TimeInterval\n",
    "    )\n",
    "    SELECT Year, TimeInterval, AvgDelay\n",
    "    FROM ranked_time_delays\n",
    "    WHERE rank = 1\n",
    "''', conn)\n",
    "\n",
    "pd.DataFrame(lowest_avg_delay)"
   ]
  },
  {
   "cell_type": "markdown",
   "id": "2df56330-d905-4627-b216-88d69568050c",
   "metadata": {},
   "source": [
    "**Observations from the plot and table above**\n",
    "\n",
    "We observe that flight delays are generally highest in the early morning hours especially during 0300 to 0559. This indicates that flights during this period experience significantly longer delays than other times of the day. Following this peak, there is a sharp drop in average delay during the 0600 to 0859, where delays reach their lowest point from 2003 to 2007 as indicated by the table above, which shows the lowest average flight delay for each year. However, the average flight delay during this interval has increased from 35.2 minutes to 37.3 minutes over the years. Despite this slight rise, early mornings between 0600 and 0859 remain the best option for minimizing delays. "
   ]
  },
  {
   "cell_type": "markdown",
   "id": "e7715ba9-7743-410d-aab0-f2571d088af3",
   "metadata": {},
   "source": [
    "## Conclusion for (a)"
   ]
  },
  {
   "cell_type": "markdown",
   "id": "54bb8bc8-9371-4523-bb36-9afe7a122e52",
   "metadata": {},
   "source": [
    "Saturday and early mornings from 0600 to 0859 are the best day and times to minimise flight delays. Travelers seeking to reduce the likelihood of delays should prioritize early morning flights and consider scheduling their trips on Saturdays. By focusing on these optimal times and days, airlines and passengers alike can enhance punctuality and improve overall travel efficiency. "
   ]
  },
  {
   "cell_type": "markdown",
   "id": "6e07954c-89d6-47e9-8fe5-0edeede7bbbd",
   "metadata": {},
   "source": [
    "## (b) Evaluate whether older planes suffer more delays on a year-to-year basis. \n"
   ]
  },
  {
   "cell_type": "markdown",
   "id": "d3875c90-d312-4662-9685-7eb8154f1600",
   "metadata": {},
   "source": [
    "Before merging the flights and planes datasets, we first rename the 'year' column in the planes dataset to avoid confusion, as both datasets contain a column with the same name."
   ]
  },
  {
   "cell_type": "code",
   "execution_count": null,
   "id": "f334c14b-f7ac-40c0-b5c5-9f7cf4ac562d",
   "metadata": {},
   "outputs": [],
   "source": [
    "c.execute('''ALTER TABLE planes RENAME COLUMN year to manu_year''')\n",
    "\n",
    "conn.commit()"
   ]
  },
  {
   "cell_type": "code",
   "execution_count": null,
   "id": "bc97d776-0d20-40e1-8a30-be759ad409d1",
   "metadata": {},
   "outputs": [],
   "source": [
    "c.execute('''UPDATE planes SET manu_year = CAST(manu_year as INTEGER)''')\n",
    "\n",
    "conn.commit()"
   ]
  },
  {
   "cell_type": "markdown",
   "id": "d1014286-6d6c-4c7e-a6c2-313b873984c9",
   "metadata": {},
   "source": [
    "We will create a table in the database named \"flights_planes\" where we will join the \"flights_clean\" and \"planes\" table. "
   ]
  },
  {
   "cell_type": "code",
   "execution_count": null,
   "id": "575240e3-4fa2-4075-912a-df7bb21228fb",
   "metadata": {},
   "outputs": [],
   "source": [
    "c.execute('''CREATE TABLE flights_planes AS SELECT Year, Month, DayofMonth, DayOfWeek, flights_clean.TailNum, ArrDelay, manu_year \n",
    "            From flights_clean\n",
    "            JOIN planes ON flights_clean.TailNum = planes.tailnum\n",
    "            WHERE Cancelled = 0 AND Diverted = 0''')\n",
    "\n",
    "conn.commit()"
   ]
  },
  {
   "cell_type": "markdown",
   "id": "72358c38-3776-427d-b28e-0fc0a0935eec",
   "metadata": {},
   "source": [
    "Next, we create a new column 'PlanesAge' to determine the planes age."
   ]
  },
  {
   "cell_type": "code",
   "execution_count": null,
   "id": "4630b6f6-f2e8-48f7-b712-48a90db38ec5",
   "metadata": {},
   "outputs": [],
   "source": [
    "c.execute('''ALTER TABLE flights_planes ADD COLUMN PlanesAge INTEGER''')\n",
    "conn.commit()"
   ]
  },
  {
   "cell_type": "markdown",
   "id": "883be326-a6ad-45dc-a6c6-66d7f17a6ee2",
   "metadata": {},
   "source": [
    "Planes Age is calculated using Year minus manu_year, which is the manufactured year of plane."
   ]
  },
  {
   "cell_type": "code",
   "execution_count": null,
   "id": "432a5ea7-000f-494c-8207-b2af0d90c548",
   "metadata": {},
   "outputs": [],
   "source": [
    "c.execute('''UPDATE flights_planes \n",
    "                SET PlanesAge = Year - manu_year''')\n",
    "conn.commit()"
   ]
  },
  {
   "cell_type": "markdown",
   "id": "9af8200d-3d24-4e4d-812a-698390041ebc",
   "metadata": {},
   "source": [
    "We noticed that the manu_year for some planes is 0 and it results in the incorrect calculation of the planes age. Therefore, we decided to rows where manu_year is 0 as it could lead to inaccuracy for our analysis."
   ]
  },
  {
   "cell_type": "code",
   "execution_count": null,
   "id": "164d022c-2783-4031-b15a-66b8e9ce7034",
   "metadata": {},
   "outputs": [],
   "source": [
    "c.execute('''DELETE FROM flights_planes WHERE manu_year = 0''')\n",
    "conn.commit()"
   ]
  },
  {
   "cell_type": "markdown",
   "id": "c0380fe1-6ca5-467d-860f-1abfb1e99764",
   "metadata": {},
   "source": [
    "We also noticed that the PlanesAge for some planes is less than 0. Hence, we decided to remove these rows as planes age cannot be less than 0. "
   ]
  },
  {
   "cell_type": "code",
   "execution_count": null,
   "id": "f5c4e3f9-01a3-4923-8ea3-3eba145da6e4",
   "metadata": {},
   "outputs": [],
   "source": [
    "c.execute('''DELETE FROM flights_planes WHERE PlanesAge < 0 ''')\n",
    "conn.commit()"
   ]
  },
  {
   "cell_type": "markdown",
   "id": "6e4decaa-85bf-4b58-99a8-0869a6d9ee6d",
   "metadata": {},
   "source": [
    "### Plot 5: Distribution of Number of Flights by Planes Age"
   ]
  },
  {
   "cell_type": "markdown",
   "id": "875f85ae-6a51-4307-aa9b-0531536116ca",
   "metadata": {},
   "source": [
    "We will first find the distribution of the number of flights by Planes Age to understand how many flights each age group would take."
   ]
  },
  {
   "cell_type": "code",
   "execution_count": null,
   "id": "d9fc6d09-90da-4610-b577-e82c61816aae",
   "metadata": {},
   "outputs": [],
   "source": [
    "age_distribution = pd.read_sql_query(''' SELECT PlanesAge, COUNT(*) / 1000000.0 AS FlightCount\n",
    "                           FROM flights_planes\n",
    "                           GROUP BY PlanesAge''', conn)"
   ]
  },
  {
   "cell_type": "markdown",
   "id": "56bb4b1a-1d5f-465c-b68d-0754a8dd2d3d",
   "metadata": {},
   "source": [
    "We will plot a histogram using `plt.hist`. The `age_distribution['PlanesAge']` data represents the age of the planes, and the `bins=np.arange(...)` argument divides the data into intervals of one year, from the minimum to the maximum age of the planes. The plot is then customized with a title, axis labels and legend."
   ]
  },
  {
   "cell_type": "code",
   "execution_count": null,
   "id": "4be070fd-f3f1-40a8-bd54-474121ac2113",
   "metadata": {},
   "outputs": [],
   "source": [
    "plt.figure(figsize=(10, 5))\n",
    "plt.hist(age_distribution['PlanesAge'], bins=np.arange(age_distribution['PlanesAge'].min(), \n",
    "                                                        age_distribution['PlanesAge'].max() + 1, 1), \n",
    "         weights=age_distribution['FlightCount'], color='skyblue', edgecolor='black')\n",
    "\n",
    "plt.title(\"Figure 7.2 (Python): Distribution of Number of Flights by Planes Age\", weight = 'bold')\n",
    "plt.xlabel('Planes Age (Year)')\n",
    "plt.ylabel('Number of Flights (millions)')\n",
    "\n",
    "plt.show()"
   ]
  },
  {
   "cell_type": "markdown",
   "id": "b64755fa-146b-439d-8956-375060693914",
   "metadata": {},
   "source": [
    "**Observations from the plot above**\n",
    "\n",
    "We can see that planes older than 22 years have significantly fewer flights compared to planes younger than 22 years old. Due to this smaller sample size, the average delay of planes aged more than 22 may not accurately represent the true average delay. To address this, we will analyze planes aged between 0 and 22 and planes aged more than 22 to better understand the relationship between plane age and flight delays. "
   ]
  },
  {
   "cell_type": "markdown",
   "id": "0a126e16-c2f9-49c3-bcbd-6702a53987d1",
   "metadata": {},
   "source": [
    "### Plot 6: Percentage of Delayed flights by Planes Age (0 to 22 years)"
   ]
  },
  {
   "cell_type": "code",
   "execution_count": null,
   "id": "9f5aa8b7-f58f-4973-b485-932f1376c0c4",
   "metadata": {},
   "outputs": [],
   "source": [
    "delay_percent_by_age = pd.read_sql_query(''' SELECT PlanesAge,\n",
    "                                            (SUM(CASE WHEN ArrDelay > 15 THEN 1 END) * 100.0 / COUNT(*)) AS DelayPercentage\n",
    "                                            FROM flights_planes\n",
    "                                            WHERE PlanesAge <= 22\n",
    "                                            GROUP BY PlanesAge ''', conn)"
   ]
  },
  {
   "cell_type": "markdown",
   "id": "6c3414e9-00a4-4952-aeb9-827d4bfaf527",
   "metadata": {},
   "source": [
    "We will plot a scatter plot with a regression line to explore the relationship between the age of planes and the percentage of flight delays. The `sns.jointplot()` creates the plot, where the x-axis represent the plane age and the y-axis shows the percentage of flight delayed. `kind=\"reg\"` indicates that a regression line should be added to the scatter plot, which helps to visualize the correlation between plane age and percentage of flight delay."
   ]
  },
  {
   "cell_type": "code",
   "execution_count": null,
   "id": "581bd398-ff65-4e37-aa3f-361520afadf5",
   "metadata": {},
   "outputs": [],
   "source": [
    "plot_6 = sns.jointplot(\n",
    "        data=delay_percent_by_age, \n",
    "        x=\"PlanesAge\", \n",
    "        y=\"DelayPercentage\", \n",
    "        kind=\"reg\",  \n",
    "    )\n",
    "\n",
    "plot_6.set_axis_labels('Planes Age (Year)', 'Percentage of Flight Delay (%)')\n",
    "plot_6.fig.suptitle(\"Figure 8.2 (Python): Percentage Delay based on Age of Plane (0 to 22)\", y = 1.02, fontsize=10, weight='bold')\n",
    "\n",
    "plt.show()"
   ]
  },
  {
   "cell_type": "markdown",
   "id": "04e4fd1f-d373-4316-81c7-e3da645ddc40",
   "metadata": {},
   "source": [
    "**Observations from the plot above**\n",
    "\n",
    "There is a positive correlation indicating that as planes get older, the percentage of delayed flights increases. Although the trend is upward-sloping, individual data points exhibit noticeable variations"
   ]
  },
  {
   "cell_type": "markdown",
   "id": "77e9af15-2bae-465d-af0a-aa616dc9f587",
   "metadata": {},
   "source": [
    "### Plot 7: Percentage of Delayed flights by Planes Age (more than 22)"
   ]
  },
  {
   "cell_type": "code",
   "execution_count": null,
   "id": "d1beaf7b-ee2e-41e7-95c1-fa3d20d5d593",
   "metadata": {},
   "outputs": [],
   "source": [
    "delay_percent_by_age2 = pd.read_sql_query('''SELECT PlanesAge,\n",
    "        (SUM(CASE WHEN ArrDelay > 15 THEN 1 END) * 100.0 / COUNT(*)) AS DelayPercentage\n",
    "        FROM flights_planes\n",
    "        WHERE PlanesAge > 22\n",
    "        GROUP BY PlanesAge ''', conn)"
   ]
  },
  {
   "cell_type": "code",
   "execution_count": null,
   "id": "08726c3e-f7a4-41b9-9788-d886d73b7c47",
   "metadata": {},
   "outputs": [],
   "source": [
    "plot_7 = sns.jointplot(\n",
    "        data=delay_percent_by_age2, \n",
    "        x=\"PlanesAge\", \n",
    "        y=\"DelayPercentage\", \n",
    "        kind=\"reg\",  \n",
    "    )\n",
    "\n",
    "plot_7.set_axis_labels('Planes Age (Year)', 'Percentage of Flight Delay (%)')\n",
    "plot_7.fig.suptitle(\"Figure 9.2 (Python): Percentage Delay based on Planes Age (more than 22)\", y = 1.02, fontsize=10, weight='bold')\n",
    "\n",
    "plt.show()"
   ]
  },
  {
   "cell_type": "markdown",
   "id": "94338efc-dbb0-48da-94c8-14d69ccfd9c0",
   "metadata": {},
   "source": [
    "**Observations from the plot above**\n",
    "\n",
    "There is a weak positive correlation between plane age and percentage of delays. This suggest that older planes aged over 22 years may experience a small increase in delay percentage, but the effect is not strong. The data points are widely scattered around the trend line, suggests that older planes do not necessarily experience higher delays at a consistent rate."
   ]
  },
  {
   "cell_type": "markdown",
   "id": "0ed4301b-780e-4f37-a1d8-79a1ad47e66c",
   "metadata": {},
   "source": [
    "### Plot 8: Average Flight Delay based on Planes Age (0 to 22)"
   ]
  },
  {
   "cell_type": "code",
   "execution_count": null,
   "id": "d3cd4f0b-31a9-43c6-933a-b3561ba23d4f",
   "metadata": {},
   "outputs": [],
   "source": [
    "avg_delay_by_age = pd.read_sql_query('''SELECT PlanesAge, AVG(ArrDelay) AS AvgDelay\n",
    "                                        FROM flights_planes\n",
    "                                        WHERE PlanesAge <= 22 AND ArrDelay > 15\n",
    "                                        GROUP BY PlanesAge''', conn)"
   ]
  },
  {
   "cell_type": "code",
   "execution_count": null,
   "id": "edb816a1-4499-4fab-8e9b-d753ec9b4416",
   "metadata": {},
   "outputs": [],
   "source": [
    "plot_8 = sns.jointplot(\n",
    "    data=avg_delay_by_age, \n",
    "    x=\"PlanesAge\", \n",
    "    y=\"AvgDelay\", \n",
    "    kind=\"reg\",  \n",
    ")\n",
    "\n",
    "plot_8.set_axis_labels('Planes Age (Year)', 'Average Flight Delay (minutes)')\n",
    "plot_8.fig.suptitle(\"Figure 10.2 (Python): Average Flight Delay based on Plane Age (0 to 22)\", fontsize=10, weight='bold')\n",
    "\n",
    "plt.tight_layout()\n",
    "plt.show()"
   ]
  },
  {
   "cell_type": "markdown",
   "id": "acdd1216-0dee-4fde-bb4f-f153bc09d321",
   "metadata": {},
   "source": [
    "**Observations from the plot above**\n",
    "\n",
    "There is a negative correlation between average flight delay and planes age between 0 and 22. The regression line slopes downward suggest that as planes age within this range, delays tend to decrease.  "
   ]
  },
  {
   "cell_type": "markdown",
   "id": "f4409c5c-bf26-4e29-948f-64e9cd062a19",
   "metadata": {},
   "source": [
    "### Plot 9: Average Flight Delay based on Planes Age (more than 22)"
   ]
  },
  {
   "cell_type": "code",
   "execution_count": null,
   "id": "6570fd38-3c4c-43fb-98b6-f704719382a1",
   "metadata": {},
   "outputs": [],
   "source": [
    "avg_delay_by_age2 = pd.read_sql_query(''' SELECT PlanesAge, AVG(ArrDelay) AS AvgDelay\n",
    "                                        FROM flights_planes\n",
    "                                        WHERE PlanesAge > 22 AND ArrDelay > 15\n",
    "                                        GROUP BY PlanesAge''', conn)\n"
   ]
  },
  {
   "cell_type": "code",
   "execution_count": null,
   "id": "576dd950-7159-4455-9419-8f1a1a735860",
   "metadata": {},
   "outputs": [],
   "source": [
    "plot_9 = sns.jointplot(\n",
    "    data=avg_delay_by_age2, \n",
    "    x=\"PlanesAge\", \n",
    "    y=\"AvgDelay\", \n",
    "    kind=\"reg\", \n",
    ")\n",
    "\n",
    "plot_9.set_axis_labels('Planes Age (Year)', 'Average Flight Delay (minutes)')\n",
    "plot_9.fig.suptitle(\" Figure 11.2 (Python): Average Flight Delay based on Planes Age (more than 22)\", y = 1.02, fontsize=10, weight='bold')\n",
    "plt.show()"
   ]
  },
  {
   "cell_type": "markdown",
   "id": "bc61e27e-9ce8-4657-a5a3-ab41e64d5fbd",
   "metadata": {},
   "source": [
    "**Observations from the plot above**\n",
    "\n",
    "There is a positive correlation between planes age and flight delay. The regression line slopes upwards, indicating that as planes get older, they tend to experience longer delays. However, the relationship is weak as indicated by the scattered data points and the wide confidence interval around the regression line."
   ]
  },
  {
   "cell_type": "markdown",
   "id": "c49b1f5b-2d7e-46e3-8c4c-717da8bc1e32",
   "metadata": {},
   "source": [
    "Overall, these findings suggest that average delays decrease as planes age from 0 and 22 years but begin to increase for planes older than 22 years. However, the trend for planes older than 22 years is less reliable due to the smaller sample size. The data for planes aged 0 to 22 years is more representative and reliable, making it the focus of our yearly trend analysis."
   ]
  },
  {
   "cell_type": "markdown",
   "id": "3d1a8445-dc24-4319-8b2c-1ee97d5d4a60",
   "metadata": {},
   "source": [
    "### Plot 10: Yearly Trend of Percentage Delay based on Planes Age (0 to 22) (Representative)"
   ]
  },
  {
   "cell_type": "code",
   "execution_count": null,
   "id": "a6188a9a-e9d1-4249-a765-4a83728559d2",
   "metadata": {},
   "outputs": [],
   "source": [
    "yearly_percent_delay = pd.read_sql_query(''' SELECT Year, PlanesAge, \n",
    "                               (SUM(CASE WHEN ArrDelay > 15 THEN 1 END) * 100.0 / COUNT(*)) AS DelayPercentage\n",
    "                               FROM flights_planes\n",
    "                               WHERE PlanesAge <= 22\n",
    "                               GROUP BY Year, PlanesAge ''', conn)"
   ]
  },
  {
   "cell_type": "markdown",
   "id": "332b8b4c-42d0-4583-89dd-797857355ad0",
   "metadata": {},
   "source": [
    "We will create a series of scatter plots with regression lines to show how the percentage of flight delays changes with plane age over different years. The `sns.FacetGrid()` is used to create multiple subplots, one for each year. The `col=\"Year` specifies that the plots will be separated by year, and the `col_wrap=3` ensures that a maximum of three plots are displayed per row, wrapping to the next row as needed.The `.map()` is then used to create scatter plots for each year, where the x-axis represents the plane's age and the y-axis represents the percentage of flight delays. The `plt.scatter` creates the scatter plots, and the `add_legend()` adds a legend to each subplot. `.map_dataframe()` adds a red regression line to each scatter plot, with `sns.regplot()`."
   ]
  },
  {
   "cell_type": "code",
   "execution_count": null,
   "id": "c58bf58f-624b-4274-aad9-3fa980684634",
   "metadata": {},
   "outputs": [],
   "source": [
    "plot_10 = sns.FacetGrid(yearly_percent_delay, col=\"Year\", col_wrap =3)\n",
    "plot_10.map(plt.scatter, \"PlanesAge\", \"DelayPercentage\").add_legend()\n",
    "plot_10.map_dataframe(sns.regplot, x=\"PlanesAge\", y=\"DelayPercentage\", scatter=False, color=\"red\")\n",
    "\n",
    "plot_10.set_axis_labels(\"Plane Age (Year)\", \"Percentage of Flight Delay (%)\")\n",
    "\n",
    "plt.subplots_adjust(top=0.9)\n",
    "plot_10.fig.suptitle(\"Figure 12.2 (Python): Yearly Trend of Percentage Delay based on Planes Age (0 to 22)\", fontsize=12, fontweight=\"bold\")\n",
    "plt.show()"
   ]
  },
  {
   "cell_type": "markdown",
   "id": "fe147bff-66c4-4805-90f8-b1e9d6177504",
   "metadata": {},
   "source": [
    "**Observations from the plot above**\n",
    "\n",
    "In 2003, 2004 and 2007, there is a positive correlation between plane age and percentage of delayed flights. This suggests that in these years, older planes generally experienced a higher percentage of delays compared to younger planes. In 2005, the trend appears to be flat, indicating little relationship between plane age and percentage delay. This suggest that planes age did not impact the delay. In 2006, there is a negative correlation. This suggests that newer planes had a slightly higher percentage of delays compared to older planes."
   ]
  },
  {
   "cell_type": "markdown",
   "id": "7fcf6848-d98e-460b-9c3e-dffe279be1e5",
   "metadata": {},
   "source": [
    "### Plot 11: Yearly Trend of Average Delay based on Planes Age (0 to 22) (Representative)"
   ]
  },
  {
   "cell_type": "code",
   "execution_count": null,
   "id": "692b2095-834c-406d-894b-37d4b3b0ba1a",
   "metadata": {},
   "outputs": [],
   "source": [
    "yearly_delay = pd.read_sql_query(''' SELECT Year, PlanesAge, AVG(ArrDelay) AS AvgDelay\n",
    "                               FROM flights_planes\n",
    "                               WHERE ArrDelay > 15 AND PlanesAge <= 22\n",
    "                               GROUP BY Year, PlanesAge ''', conn)\n"
   ]
  },
  {
   "cell_type": "code",
   "execution_count": null,
   "id": "1117b847-df76-491f-b9c0-64d0eb43e80a",
   "metadata": {},
   "outputs": [],
   "source": [
    "plot_11 = sns.FacetGrid(yearly_delay, col=\"Year\", col_wrap =3)\n",
    "plot_11.map(plt.scatter, \"PlanesAge\", \"AvgDelay\").add_legend()\n",
    "plot_11.map_dataframe(sns.regplot, x=\"PlanesAge\", y=\"AvgDelay\", scatter=False, color=\"red\")\n",
    "\n",
    "plot_11.set_axis_labels(\"Plane Age (Year)\", \"Average Flight Delay (minutes)\")\n",
    "\n",
    "plt.subplots_adjust(top=0.9)\n",
    "plot_11.fig.suptitle(\"Figure 13.2 (Python): Yearly Trend of Average Delay based on Planes Age (0 to 22)\", fontsize=12, fontweight=\"bold\")\n",
    "plt.show()"
   ]
  },
  {
   "cell_type": "markdown",
   "id": "7cb26120-80e4-42cc-99ab-211de41c0531",
   "metadata": {},
   "source": [
    "**Observations from the plot above**\n",
    "\n",
    "In 2003, 2004, and 2005, there is a positive correlation suggests that older planes tend to have slightly higher average flight delays. The confidence intervals in 2004 and 2005 are slightly wider, indicating some uncertainty in the trend. In 2006 and 2007, there is a negative correlation, where older planes exhibit shorter average delays compared to newer ones. "
   ]
  },
  {
   "cell_type": "markdown",
   "id": "e25541f3-392b-4dbd-9dba-57e24a822b12",
   "metadata": {},
   "source": [
    "## Conclusion for (b)"
   ]
  },
  {
   "cell_type": "markdown",
   "id": "2496897e-b966-43fe-a4d9-e56140f2ea3a",
   "metadata": {},
   "source": [
    "While older planes aged more than 22 experience increasing delays over time, there is a weak correlation between plane age and delays. For planes aged between 0 to 22, the percentage of delayed flights increases with age, but their average delay time does not necessarily worsen. While there is some evidence that plane age contributes to delays, the effect is not consistent across all years, indicating planes age is not the only determining factor for flight delays."
   ]
  },
  {
   "cell_type": "markdown",
   "id": "79ff5f12-ce67-45b2-ae31-652e1405cf69",
   "metadata": {},
   "source": [
    "## (c) Logistic regression model"
   ]
  },
  {
   "cell_type": "markdown",
   "id": "47e1fa1f-ee50-4f92-ba98-53dfbd1c1c5f",
   "metadata": {},
   "source": [
    "In this section, the aim is to fit a logistic regression model for the probability of diverted US flights from 2003 to 2007 based on various flight features such as scheduled departure and arrival times, distance and carrier. To better understand these trends, we will visualize the regression coefficients across the years."
   ]
  },
  {
   "cell_type": "markdown",
   "id": "b9a61337-d62a-47e2-ae59-f01ed9c5ac90",
   "metadata": {},
   "source": [
    "To build the model, we use `sklearn` package in Python as these packages are efficient tools for machine learning."
   ]
  },
  {
   "cell_type": "markdown",
   "id": "3d2bf7a0-bc5b-4582-b00f-cb7ba620bdc7",
   "metadata": {},
   "source": [
    "- \"sklearn.model_selection import train_test_split\": divides the dataset into a training set and a test set    \n",
    "- \"sklearn.linear_model import LogisticRegression\": imports the LogisticRegression model, which is used for binary or multi-class classification.\n",
    "- \"sklearn.pipeline import Pipeline\": allows chaining multiple preprocessing and modeling steps into a single workflow for efficiency and consistency. \n",
    "- \"sklearn.preprocessing import StandardScaler, OneHotEncoder\": StandardScaler standardizes numerical features by scaling them while OneHotEncoder convertes categorical features into a format suitable for machine learning models\n",
    "- \"sklearn.compose import ColumnTransformer\": transform different types"
   ]
  },
  {
   "cell_type": "code",
   "execution_count": null,
   "id": "1961af69-610c-48c3-9396-9157a8c1eedf",
   "metadata": {},
   "outputs": [],
   "source": [
    "from sklearn.model_selection import train_test_split \n",
    "from sklearn.linear_model import LogisticRegression \n",
    "from sklearn.pipeline import Pipeline\n",
    "from sklearn.preprocessing import StandardScaler, OneHotEncoder\n",
    "from sklearn.compose import ColumnTransformer "
   ]
  },
  {
   "cell_type": "markdown",
   "id": "172776c8-ec4c-412b-9afb-bf62b6c1d6d4",
   "metadata": {},
   "source": [
    "We will join flights, airports and carriers table together and select specific features that are relevant for our model."
   ]
  },
  {
   "cell_type": "code",
   "execution_count": null,
   "id": "b70b1ffc-8537-47f4-a2dc-a5520caf3ac6",
   "metadata": {},
   "outputs": [],
   "source": [
    "flights_merged = pd.read_sql_query('''\n",
    "                    SELECT f.Year, f.Month, f.DayofMonth, f.DayOfWeek, f.CRSDepTime, f.CRSArrTime, f.Distance, f.UniqueCarrier, \n",
    "                    a1.lat As OriginLat, a1.long AS OriginLong, a2.lat AS DestLat, a2.long AS DestLong, f.Diverted\n",
    "                    FROM flights_clean f\n",
    "                    JOIN airports a1 ON f.Origin = a1.iata\n",
    "                    JOIN airports a2 ON f.Dest = a2.iata\n",
    "                    WHERE f.Cancelled = 0 ''', conn)"
   ]
  },
  {
   "cell_type": "code",
   "execution_count": null,
   "id": "8b5809d6-9683-4a78-a01c-f167d8b36d0f",
   "metadata": {},
   "outputs": [],
   "source": [
    "flights_merged.info()"
   ]
  },
  {
   "cell_type": "markdown",
   "id": "3ab7ff78-8832-483f-b4e1-dfbd66ef02f7",
   "metadata": {},
   "source": [
    "We will count the number of diverted and non-diverted flights to understand the distribution of diverted flights in the dataset. To count the number of diverted and non-diverted flight, we need to convert the Diverted column from object data type to numeric data type first."
   ]
  },
  {
   "cell_type": "code",
   "execution_count": null,
   "id": "8bf037da-eb90-4473-a08f-11378fce067a",
   "metadata": {},
   "outputs": [],
   "source": [
    "flights_merged.dtypes"
   ]
  },
  {
   "cell_type": "code",
   "execution_count": null,
   "id": "57984efa-dec2-41a8-8805-8545c9965de9",
   "metadata": {},
   "outputs": [],
   "source": [
    "flights_merged['Diverted'] = flights_merged['Diverted'].astype(int)"
   ]
  },
  {
   "cell_type": "code",
   "execution_count": null,
   "id": "2266aff0-2cf2-4dd6-8206-3e6f203273b3",
   "metadata": {},
   "outputs": [],
   "source": [
    "diverted_count = (flights_merged[\"Diverted\"] == 1).sum()\n",
    "non_diverted_count = (flights_merged[\"Diverted\"] == 0).sum()\n",
    "\n",
    "print(diverted_count)\n",
    "print(non_diverted_count)"
   ]
  },
  {
   "cell_type": "markdown",
   "id": "ffe33728-ebbd-4a7d-882b-7089ba96e545",
   "metadata": {},
   "source": [
    "There are 72558 diverted flights and 3463546 non-diverted flights. As the sample size for non-diverted flights are larger than the diverted flight, we decrease the size of the majority class to be the same to the minority class."
   ]
  },
  {
   "cell_type": "code",
   "execution_count": null,
   "id": "ee7cbe7e-f337-480e-95fc-200adc5f9b9f",
   "metadata": {},
   "outputs": [],
   "source": [
    "np.random.seed(123)\n",
    "\n",
    "# Count the number of diverted flights\n",
    "diverted_count = flights_merged[flights_merged[\"Diverted\"] == 1].shape[0]\n",
    "\n",
    "# Filter diverted flights (Diverted == 1)\n",
    "diverted_flights = flights_merged[flights_merged[\"Diverted\"] == 1]\n",
    "\n",
    "# Downsample non-diverted flights\n",
    "non_diverted_flights = flights_merged[flights_merged[\"Diverted\"] == 0].sample(n=diverted_count, random_state=123)\n",
    "\n",
    "# Combine both datasets\n",
    "flights_sampled = pd.concat([diverted_flights, non_diverted_flights], ignore_index=True)\n"
   ]
  },
  {
   "cell_type": "markdown",
   "id": "8871b04d-0d9b-44e6-b5af-805c9c9a13a2",
   "metadata": {},
   "source": [
    "We will then train the logistic regression model for each year. It involves data preparation, preprocessing, model training and extracting coefficients to analyze how different features influence flight diversions over time."
   ]
  },
  {
   "cell_type": "markdown",
   "id": "0ee41d9f-7e26-4e41-b925-f3320aa7d3ee",
   "metadata": {},
   "source": [
    "The features are separated in three different categories: numerical, categorical and target."
   ]
  },
  {
   "cell_type": "code",
   "execution_count": null,
   "id": "b093eaeb-0933-4b6f-a8c1-101e45047b63",
   "metadata": {},
   "outputs": [],
   "source": [
    "numerical_features = ['Month', 'DayofMonth', 'CRSDepTime', 'CRSArrTime','Distance','OriginLat','OriginLong', 'DestLat', 'DestLong']\n",
    "categorical_features = ['DayOfWeek', 'UniqueCarrier']\n",
    "target = 'Diverted'"
   ]
  },
  {
   "cell_type": "markdown",
   "id": "9d7cf099-2c5f-4513-bd8d-8f566a3218c7",
   "metadata": {},
   "source": [
    "An empty dictionary is created to store the coefficients."
   ]
  },
  {
   "cell_type": "code",
   "execution_count": null,
   "id": "e61a9a88-1b1e-4535-a358-cd12701a3667",
   "metadata": {},
   "outputs": [],
   "source": [
    "coefficients = {}"
   ]
  },
  {
   "cell_type": "markdown",
   "id": "6221aa08-b8bd-4248-aa7f-db906074bbdf",
   "metadata": {},
   "source": [
    "We first loop through each year in the data to ensure that a separate logistic regression model is trained for each year. Within the loop, it extracts only the rows for the current year. X selects the features needed for the model while Y selects the target variable, Diverted, which indicates whether a flight was diverted or not. Next, we will set up the pre-processing steps for numerical and categorical features."
   ]
  },
  {
   "cell_type": "markdown",
   "id": "2335e44d-c4c0-4ef1-accb-7afb3d92386e",
   "metadata": {},
   "source": [
    "For numerical feature, we apply scaling with the function `StandardScaler()`, which standardizes the data. For categorical feature, we apply OneHotEncoder() function, which converts categorical values into binary columns. We combine these transformations using the function `ColumnTransformer()`, specifying the transformations with the `transformers` argument.  This creates a new pipeline called `data_transformer`."
   ]
  },
  {
   "cell_type": "markdown",
   "id": "02442438-e0cc-4138-8bf3-a67c6d473641",
   "metadata": {},
   "source": [
    "We are now ready to complete our machine learning pipeline by simply attaching a learner to the `data_transformer` pipeline."
   ]
  },
  {
   "cell_type": "markdown",
   "id": "006e3fbb-8e4c-4494-8cde-7d5da5555246",
   "metadata": {},
   "source": [
    "The next stage is to perform the standard machine learning operations of training the pipeline and evaluating its predictive performance. We begin by splitting the data into train and test datasets with the very convenient function `train_test_split()`. The data set is divided into 50% training data and 50% testing data."
   ]
  },
  {
   "cell_type": "markdown",
   "id": "be1d88cf-f43f-4678-94dd-99d720b45f3f",
   "metadata": {},
   "source": [
    "After that, the model learns from the training data, figuring out which features are important for predicting whether a flight is diverted."
   ]
  },
  {
   "cell_type": "markdown",
   "id": "d74b4ed3-c03b-4fdd-90bb-dc95a7acaff4",
   "metadata": {},
   "source": [
    "Once the model is trained, it retrieves the feature names after preprocessing and stores the model's coefficients for the current year. It then repeats the process for all years."
   ]
  },
  {
   "cell_type": "code",
   "execution_count": null,
   "id": "8f405609-95df-4308-a3f1-2e3d2d211538",
   "metadata": {},
   "outputs": [],
   "source": [
    "for year in flights_sampled['Year'].unique():\n",
    "    flights_sampled_year = flights_sampled[flights_sampled['Year'] == year]\n",
    "    X = flights_sampled_year[numerical_features + categorical_features]\n",
    "    y = flights_sampled_year[target]\n",
    "    \n",
    "    data_transformer = ColumnTransformer(\n",
    "        transformers=[\n",
    "        ('numerical', StandardScaler(), numerical_features),\n",
    "        ('categorical', OneHotEncoder(handle_unknown='ignore', drop=None), categorical_features)]) \n",
    "    \n",
    "    model = Pipeline(steps=[('data_transformer', data_transformer),\n",
    "                            ('model', LogisticRegression(max_iter=1000))])\n",
    "\n",
    "    X_train, X_test, y_train, y_test = train_test_split(X, y, test_size=0.5, random_state=1)\n",
    "    \n",
    "    model.fit(X_train, y_train)\n",
    "\n",
    "    feature_names = (numerical_features + list(model.named_steps['data_transformer'].named_transformers_['categorical']\n",
    "                                         .get_feature_names_out(categorical_features)))\n",
    "\n",
    "    coefficients[year] = model.named_steps['model'].coef_.flatten()\n"
   ]
  },
  {
   "cell_type": "code",
   "execution_count": null,
   "id": "b9445b97-e002-4819-91f7-b601503c5cd4",
   "metadata": {},
   "outputs": [],
   "source": [
    "# Convert to DataFrame\n",
    "coefs_df = pd.DataFrame.from_dict(coefficients, orient='index', columns = feature_names)"
   ]
  },
  {
   "cell_type": "markdown",
   "id": "f6566160-5e65-49b1-907a-d1a286156e58",
   "metadata": {},
   "source": [
    "### Plot 12: Logistic regression coefficients"
   ]
  },
  {
   "cell_type": "markdown",
   "id": "766127c9-dd08-40e4-b9c3-c8e552964738",
   "metadata": {},
   "source": [
    "We will plot a heatmap to visualize the coefficients of the logistic regression model."
   ]
  },
  {
   "cell_type": "markdown",
   "id": "08e6ef3c-c09c-42ab-a183-a8453e45ed2b",
   "metadata": {},
   "source": [
    "The coefficients are first categorized into different color ranges:\n",
    "- Coefficients less than or equal to -1 are represented by red\n",
    "- Coefficient between -1 and 0 are represented by pink\n",
    "- Coefficient between 0 and 1 are represented by blue\n",
    "- Coefficient greater than 1 are represented by green."
   ]
  },
  {
   "cell_type": "code",
   "execution_count": null,
   "id": "40b8fc21-9148-4a3f-aa97-1e827004b59a",
   "metadata": {},
   "outputs": [],
   "source": [
    "coefs_colored = coefs_df.T.copy()\n",
    "coefs_colored[coefs_colored <= -1] = -1 #red\n",
    "coefs_colored[(coefs_colored > -1) & (coefs_colored <= 0)] = -0.5 #pink\n",
    "coefs_colored[(coefs_colored > 0) & (coefs_colored <= 1)] = 0.5 #blue\n",
    "coefs_colored[coefs_colored > 1] = 1 #green"
   ]
  },
  {
   "cell_type": "markdown",
   "id": "19990837-53e0-4cde-91ee-f14cc3d3b8cb",
   "metadata": {},
   "source": [
    "`sns.heatmap()` is used to generate the heatmap, with the `cmap` argument specifying the colors for the different coefficient ranges, the `center=0` argument ensuring that 0 is centered on the color scale, and `linewidths=0.5` with a black line color around each cell to improve the visual clarity of the heatmap."
   ]
  },
  {
   "cell_type": "code",
   "execution_count": null,
   "id": "afda17b8-9da6-46a7-8e45-1fc03303eeff",
   "metadata": {},
   "outputs": [],
   "source": [
    "plt.figure(figsize=(10,8))\n",
    "sns.heatmap(coefs_df.T, cmap=[\"red\", \"pink\", \"lightblue\", \"green\"], center=0, linewidths=0.5, linecolor = 'black')\n",
    "\n",
    "plt.xlabel(\"Year\")\n",
    "plt.ylabel(\"Feature\")\n",
    "plt.title(\"Logistic Regression Coefficients\", weight = 'bold')\n",
    "plt.show()"
   ]
  },
  {
   "cell_type": "markdown",
   "id": "b5060f26-2287-452a-9c97-230a2c1a96bf",
   "metadata": {},
   "source": [
    "**Observations from the plot above**\n",
    "\n",
    "Carrier HA exhibit strong negative coefficients in 2007, highlighted in red. This suggests that flights operated by this airline were significantly less likely to be diverted during those periods. On the other hand, carrier XE show more positive coefficients in 2006, highlighted in green. This indicates that flights operated by this carrier were more likely to be diverted during that year. Other features such as distance and time generally have more consistent positive or negative effects across years."
   ]
  },
  {
   "cell_type": "markdown",
   "id": "e357449d-8026-49f9-91a7-3c8ded70d394",
   "metadata": {},
   "source": [
    "### Conclusion for (c)"
   ]
  },
  {
   "cell_type": "markdown",
   "id": "54213831-a472-4972-8ac1-7747151e0065",
   "metadata": {},
   "source": [
    "Factors such as time and airport locations appear to have less impact on the probabilities of flight diversion while airline carriers seem to have some impact on the probabilities of flight diversion."
   ]
  },
  {
   "cell_type": "markdown",
   "id": "0a5d15d4-6a17-44f4-b54f-3740f41b1bb2",
   "metadata": {},
   "source": [
    "## Close the connection"
   ]
  },
  {
   "cell_type": "markdown",
   "id": "8f53328e-8592-4d4b-ad68-c30c0d393c7f",
   "metadata": {},
   "source": [
    "We can close the connection using the method `close` on `conn`:"
   ]
  },
  {
   "cell_type": "code",
   "execution_count": 6,
   "id": "1d652e7d-32db-409d-b2bb-1eebbebfbc83",
   "metadata": {},
   "outputs": [],
   "source": [
    "conn.close()"
   ]
  },
  {
   "cell_type": "code",
   "execution_count": null,
   "id": "1f535635-c4d6-44ef-905e-f139a858dba8",
   "metadata": {},
   "outputs": [],
   "source": []
  }
 ],
 "metadata": {
  "kernelspec": {
   "display_name": "Python 3 (ipykernel)",
   "language": "python",
   "name": "python3"
  },
  "language_info": {
   "codemirror_mode": {
    "name": "ipython",
    "version": 3
   },
   "file_extension": ".py",
   "mimetype": "text/x-python",
   "name": "python",
   "nbconvert_exporter": "python",
   "pygments_lexer": "ipython3",
   "version": "3.12.7"
  }
 },
 "nbformat": 4,
 "nbformat_minor": 5
}
